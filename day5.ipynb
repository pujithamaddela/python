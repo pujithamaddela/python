{
 "cells": [
  {
   "cell_type": "code",
   "execution_count": 1,
   "id": "cf006726-f688-46e7-8aab-6720ad4a92c8",
   "metadata": {},
   "outputs": [
    {
     "name": "stdout",
     "output_type": "stream",
     "text": [
      "before swapping 1 2\n",
      "after swapping 2 1\n"
     ]
    }
   ],
   "source": [
    "a=1\n",
    "b=2\n",
    "print(\"before swapping\",a,b)\n",
    "a,b=b,a\n",
    "print(\"after swapping\",a,b)"
   ]
  },
  {
   "cell_type": "code",
   "execution_count": 3,
   "id": "a8b1792a-7e51-48f1-9bce-cea3cf1bcbe4",
   "metadata": {},
   "outputs": [
    {
     "name": "stdin",
     "output_type": "stream",
     "text": [
      "enter the value of a: 18\n",
      "enter the value of b: 12\n"
     ]
    },
    {
     "name": "stdout",
     "output_type": "stream",
     "text": [
      "before swap 18 12\n",
      "afer swap 12 18\n"
     ]
    }
   ],
   "source": [
    "a=int(input(\"enter the value of a:\"))\n",
    "b=int(input(\"enter the value of b:\"))\n",
    "print(\"before swap\",a,b)\n",
    "temp=a\n",
    "a=b\n",
    "b=temp\n",
    "print(\"afer swap\",a,b)"
   ]
  },
  {
   "cell_type": "code",
   "execution_count": 5,
   "id": "b0683b3a-1061-439d-adf5-058e66f2df8b",
   "metadata": {},
   "outputs": [
    {
     "name": "stdin",
     "output_type": "stream",
     "text": [
      "enter the value of a: 18\n",
      "enter the value of b: 12\n"
     ]
    },
    {
     "name": "stdout",
     "output_type": "stream",
     "text": [
      "before swapping a=  18 b=  12\n",
      "after swapping a=  12 b=  18\n"
     ]
    }
   ],
   "source": [
    "a=int(input(\"enter the value of a:\"))\n",
    "b=int(input(\"enter the value of b:\"))\n",
    "print(\"before swapping a= \",a,\"b= \",b)\n",
    "a=a+b\n",
    "b=a-b\n",
    "a=a-b\n",
    "print(\"after swapping a= \",a,\"b= \",b)"
   ]
  },
  {
   "cell_type": "code",
   "execution_count": 9,
   "id": "470bbd8e-46cb-4a2a-9116-ed872aacc8bd",
   "metadata": {},
   "outputs": [
    {
     "name": "stdin",
     "output_type": "stream",
     "text": [
      "enter the value of a: 18\n",
      "enter the value of b: 12\n"
     ]
    },
    {
     "name": "stdout",
     "output_type": "stream",
     "text": [
      "before swapping a=  18 b=  12\n",
      "after swpping a=  12.0 b=  18.0\n"
     ]
    }
   ],
   "source": [
    "a=int(input(\"enter the value of a:\"))\n",
    "b=int(input(\"enter the value of b:\"))\n",
    "print(\"before swapping a= \",a,\"b= \",b)\n",
    "a=a*b\n",
    "b=a/b\n",
    "a=a/b\n",
    "print(\"after swpping a= \",a,\"b= \",b)\n"
   ]
  },
  {
   "cell_type": "code",
   "execution_count": 11,
   "id": "5c091064-cc1b-4ae4-b0a4-7abdc09b00da",
   "metadata": {},
   "outputs": [
    {
     "name": "stdin",
     "output_type": "stream",
     "text": [
      "enter the value of a: 18\n",
      "enter the value of b: 12\n"
     ]
    },
    {
     "name": "stdout",
     "output_type": "stream",
     "text": [
      "before swapping a=  18 b=  12\n",
      "after swapping a=  12 b=  18\n"
     ]
    }
   ],
   "source": [
    "a=int(input(\"enter the value of a:\"))\n",
    "b=int(input(\"enter the value of b:\"))\n",
    "print(\"before swapping a= \",a,\"b= \",b)\n",
    "a=a^b\n",
    "b=a^b\n",
    "a=a^b\n",
    "print(\"after swapping a= \",round(a),\"b= \",round(b))\n"
   ]
  },
  {
   "cell_type": "code",
   "execution_count": 15,
   "id": "f06fcef3-1eca-4e98-996a-7b3930ce55c5",
   "metadata": {},
   "outputs": [
    {
     "name": "stdin",
     "output_type": "stream",
     "text": [
      "enter the value of r: 7.5\n"
     ]
    },
    {
     "name": "stdout",
     "output_type": "stream",
     "text": [
      "176.7144375\n",
      "47.12385\n"
     ]
    }
   ],
   "source": [
    "r=float(input(\"enter the value of r:\"))\n",
    "pi=3.14159\n",
    "a=pi*(r**2)\n",
    "c=2*pi*r\n",
    "print(a)\n",
    "print(c)"
   ]
  },
  {
   "cell_type": "code",
   "execution_count": 17,
   "id": "9d3751f1-754f-4b40-b49c-8d4b169e56f2",
   "metadata": {},
   "outputs": [
    {
     "name": "stdout",
     "output_type": "stream",
     "text": [
      "4.0\n",
      "16.0\n"
     ]
    }
   ],
   "source": [
    "from math import sqrt,pow\n",
    "n=16\n",
    "print(sqrt(n))\n",
    "print(pow(2,4))"
   ]
  },
  {
   "cell_type": "code",
   "execution_count": 19,
   "id": "a7ba1b3f-d0cc-4d72-bede-031945af7698",
   "metadata": {},
   "outputs": [
    {
     "name": "stdout",
     "output_type": "stream",
     "text": [
      "sin: 0.3420201433256687\n",
      "cos: 0.9396926207859084\n",
      "tan: 0.36397023426620234\n"
     ]
    }
   ],
   "source": [
    "from math import sin,cos,tan,radians\n",
    "angle=20\n",
    "print(\"sin:\",sin(radians(angle)))\n",
    "print(\"cos:\",cos(radians(angle)))\n",
    "print(\"tan:\",tan(radians(angle)))"
   ]
  },
  {
   "cell_type": "code",
   "execution_count": 25,
   "id": "e903e6b6-3344-43bf-8070-aa0e0e816426",
   "metadata": {},
   "outputs": [
    {
     "name": "stdout",
     "output_type": "stream",
     "text": [
      "floor: 2\n",
      "ceil: 3\n"
     ]
    }
   ],
   "source": [
    "from math import floor,ceil\n",
    "num=2.3\n",
    "print(\"floor:\",floor(num))\n",
    "print(\"ceil:\",ceil(num))"
   ]
  },
  {
   "cell_type": "code",
   "execution_count": 37,
   "id": "9d7e4a24-495c-494f-96a9-3f033da5089b",
   "metadata": {},
   "outputs": [
    {
     "name": "stdout",
     "output_type": "stream",
     "text": [
      "natural log: 1.0\n",
      "log base 10 of 100: 2.0\n",
      "e to the power 2: 7.38905609893065\n"
     ]
    }
   ],
   "source": [
    "from math import log,log10,e\n",
    "print(\"natural log:\",log(e))\n",
    "print(\"log base 10 of 100:\",log10(100))\n",
    "print(\"e to the power 2:\",exp(2))\n"
   ]
  },
  {
   "cell_type": "code",
   "execution_count": 29,
   "id": "68f4348b-3082-4ddc-ab4a-eed1040bdf0a",
   "metadata": {},
   "outputs": [
    {
     "name": "stdout",
     "output_type": "stream",
     "text": [
      "natural log: 1.0\n",
      "log base 10 of 100: 2.0\n",
      "e to the power 2: 7.38905609893065\n"
     ]
    }
   ],
   "source": [
    "from math import log, log10, e\n",
    "print(\"natural log:\",log(e))\n",
    "print(\"log base 10 of 100:\", log10(100))\n",
    "print(\"e to the power 2:\", exp(2))\n"
   ]
  },
  {
   "cell_type": "code",
   "execution_count": 35,
   "id": "e6777595-1444-4162-984f-3d658ed3de14",
   "metadata": {},
   "outputs": [
    {
     "name": "stdout",
     "output_type": "stream",
     "text": [
      "current time: 2025-05-09 11:17:10.837403\n",
      "date: 2025-05-09\n",
      "time: 11:17:10.837403\n"
     ]
    }
   ],
   "source": [
    "from datetime import datetime\n",
    "now=datetime.now()\n",
    "print(\"current time:\",now)\n",
    "print(\"date:\",now.date())\n",
    "print(\"time:\",now.time())"
   ]
  },
  {
   "cell_type": "code",
   "execution_count": 39,
   "id": "acbfcf8b-739a-414c-b3a5-8ad951b9f410",
   "metadata": {},
   "outputs": [
    {
     "name": "stdout",
     "output_type": "stream",
     "text": [
      "current time: 2025-05-09 11:18:23.868163\n",
      "date: 2025-05-09\n",
      "time: 11:18:23.868163\n"
     ]
    }
   ],
   "source": [
    "from datetime import datetime\n",
    "now=datetime.now()\n",
    "print(\"current time:\",now)\n",
    "print(\"date:\",now.date())\n",
    "print(\"time:\",now.time())"
   ]
  },
  {
   "cell_type": "code",
   "execution_count": 45,
   "id": "94c3a864-07dc-4c40-9147-b9773f8d41be",
   "metadata": {},
   "outputs": [
    {
     "name": "stdout",
     "output_type": "stream",
     "text": [
      "      May 2025\n",
      "Mo Tu We Th Fr Sa Su\n",
      "          1  2  3  4\n",
      " 5  6  7  8  9 10 11\n",
      "12 13 14 15 16 17 18\n",
      "19 20 21 22 23 24 25\n",
      "26 27 28 29 30 31\n",
      "\n"
     ]
    }
   ],
   "source": [
    "import calendar\n",
    "print(calendar.month(2025,5))\n"
   ]
  },
  {
   "cell_type": "code",
   "execution_count": 65,
   "id": "a85e6616-42e1-4d6a-9659-06c8310a772f",
   "metadata": {},
   "outputs": [
    {
     "name": "stdout",
     "output_type": "stream",
     "text": [
      "                                  2025\n",
      "\n",
      "      January                   February                   March\n",
      "Mo Tu We Th Fr Sa Su      Mo Tu We Th Fr Sa Su      Mo Tu We Th Fr Sa Su\n",
      "       1  2  3  4  5                      1  2                      1  2\n",
      " 6  7  8  9 10 11 12       3  4  5  6  7  8  9       3  4  5  6  7  8  9\n",
      "13 14 15 16 17 18 19      10 11 12 13 14 15 16      10 11 12 13 14 15 16\n",
      "20 21 22 23 24 25 26      17 18 19 20 21 22 23      17 18 19 20 21 22 23\n",
      "27 28 29 30 31            24 25 26 27 28            24 25 26 27 28 29 30\n",
      "                                                    31\n",
      "\n",
      "       April                      May                       June\n",
      "Mo Tu We Th Fr Sa Su      Mo Tu We Th Fr Sa Su      Mo Tu We Th Fr Sa Su\n",
      "    1  2  3  4  5  6                1  2  3  4                         1\n",
      " 7  8  9 10 11 12 13       5  6  7  8  9 10 11       2  3  4  5  6  7  8\n",
      "14 15 16 17 18 19 20      12 13 14 15 16 17 18       9 10 11 12 13 14 15\n",
      "21 22 23 24 25 26 27      19 20 21 22 23 24 25      16 17 18 19 20 21 22\n",
      "28 29 30                  26 27 28 29 30 31         23 24 25 26 27 28 29\n",
      "                                                    30\n",
      "\n",
      "        July                     August                  September\n",
      "Mo Tu We Th Fr Sa Su      Mo Tu We Th Fr Sa Su      Mo Tu We Th Fr Sa Su\n",
      "    1  2  3  4  5  6                   1  2  3       1  2  3  4  5  6  7\n",
      " 7  8  9 10 11 12 13       4  5  6  7  8  9 10       8  9 10 11 12 13 14\n",
      "14 15 16 17 18 19 20      11 12 13 14 15 16 17      15 16 17 18 19 20 21\n",
      "21 22 23 24 25 26 27      18 19 20 21 22 23 24      22 23 24 25 26 27 28\n",
      "28 29 30 31               25 26 27 28 29 30 31      29 30\n",
      "\n",
      "      October                   November                  December\n",
      "Mo Tu We Th Fr Sa Su      Mo Tu We Th Fr Sa Su      Mo Tu We Th Fr Sa Su\n",
      "       1  2  3  4  5                      1  2       1  2  3  4  5  6  7\n",
      " 6  7  8  9 10 11 12       3  4  5  6  7  8  9       8  9 10 11 12 13 14\n",
      "13 14 15 16 17 18 19      10 11 12 13 14 15 16      15 16 17 18 19 20 21\n",
      "20 21 22 23 24 25 26      17 18 19 20 21 22 23      22 23 24 25 26 27 28\n",
      "27 28 29 30 31            24 25 26 27 28 29 30      29 30 31\n",
      "\n"
     ]
    }
   ],
   "source": [
    "import calendar\n",
    "year=2025\n",
    "print(calendar.calendar(year))"
   ]
  },
  {
   "cell_type": "code",
   "execution_count": 67,
   "id": "28851c3e-1535-4999-9d90-75dfd84d3d7a",
   "metadata": {},
   "outputs": [
    {
     "name": "stdout",
     "output_type": "stream",
     "text": [
      "6 "
     ]
    }
   ],
   "source": [
    "import calendar\n",
    "leaps=calendar.leapdays(2003,2025)\n",
    "print(leaps,end=' ')"
   ]
  },
  {
   "cell_type": "code",
   "execution_count": 71,
   "id": "600297f5-4812-4bcb-8b3d-91d191eeab7c",
   "metadata": {},
   "outputs": [
    {
     "name": "stdout",
     "output_type": "stream",
     "text": [
      "difference in dates: 128\n"
     ]
    }
   ],
   "source": [
    "from datetime import date\n",
    "d1=date(2025,5,9)\n",
    "d2=date(2025,1,1)\n",
    "diff=d1-d2\n",
    "print(\"difference in dates:\",diff.days)"
   ]
  },
  {
   "cell_type": "code",
   "execution_count": 77,
   "id": "7ba876e3-d925-42ba-9544-91fa023ddcbd",
   "metadata": {},
   "outputs": [
    {
     "name": "stdout",
     "output_type": "stream",
     "text": [
      "today: Friday\n"
     ]
    }
   ],
   "source": [
    "from datetime import date\n",
    "today=date.today()\n",
    "name=today.strftime(\"%A\")\n",
    "print(\"today:\",name)"
   ]
  },
  {
   "cell_type": "code",
   "execution_count": null,
   "id": "b61d99be-8d46-41d1-80e7-183a5bbf3ea1",
   "metadata": {},
   "outputs": [],
   "source": [
    "import calendar\n",
    "from datetime import date\n",
    "year=2025\n",
    "month=9\n",
    "f=date(year,month,1)\n",
    "l=date(year,month,calendar.monthrange(year"
   ]
  }
 ],
 "metadata": {
  "kernelspec": {
   "display_name": "Python 3 (ipykernel)",
   "language": "python",
   "name": "python3"
  },
  "language_info": {
   "codemirror_mode": {
    "name": "ipython",
    "version": 3
   },
   "file_extension": ".py",
   "mimetype": "text/x-python",
   "name": "python",
   "nbconvert_exporter": "python",
   "pygments_lexer": "ipython3",
   "version": "3.12.7"
  }
 },
 "nbformat": 4,
 "nbformat_minor": 5
}
